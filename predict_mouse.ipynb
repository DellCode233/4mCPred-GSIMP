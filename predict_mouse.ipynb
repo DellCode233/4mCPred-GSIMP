{
 "cells": [
  {
   "cell_type": "code",
   "execution_count": 5,
   "metadata": {},
   "outputs": [],
   "source": [
    "import torch\n",
    "from torch import nn\n",
    "import torch.nn.functional as F\n",
    "from models import *\n",
    "from load_dataset import iFunction, GetDataSet\n",
    "import os\n",
    "from torch.utils import data\n",
    "from utils import get_performance\n",
    "import pandas as pd"
   ]
  },
  {
   "cell_type": "code",
   "execution_count": 6,
   "metadata": {},
   "outputs": [],
   "source": [
    "feature_encoding = iFunction.fe1\n",
    "path = os.path.join(\"data\")\n",
    "dataset_name =  \"mouse\"\n",
    "datasets = GetDataSet(os.path.join(path, dataset_name), iFunction.read_txt_to_pd2, dataset_name)\n",
    "test_data = datasets(feature_encoding,1)\n",
    "device = torch.device('cuda')\n",
    "test_iter = data.DataLoader(test_data,len(test_data)) "
   ]
  },
  {
   "cell_type": "code",
   "execution_count": 7,
   "metadata": {},
   "outputs": [],
   "source": [
    "target_net = torch.load(\"mouse_checkpoint.pt\").to(device)\n",
    "with torch.no_grad():\n",
    "    X, y = next(iter(test_iter))\n",
    "    X, y = X.to(device),y.to(device)\n",
    "    y_hat = target_net(X)\n",
    "    perfor = get_performance(y_hat.softmax(-1), y)"
   ]
  },
  {
   "cell_type": "code",
   "execution_count": 10,
   "metadata": {},
   "outputs": [
    {
     "data": {
      "text/plain": [
       "Sn           0.7812\n",
       "Sp           0.9312\n",
       "Acc          0.8562\n",
       "Mcc          0.7207\n",
       "Recall       0.7812\n",
       "Precision    0.9191\n",
       "F1           0.8446\n",
       "Auc          0.9234\n",
       "Aupr         0.9307\n",
       "dtype: float64"
      ]
     },
     "execution_count": 10,
     "metadata": {},
     "output_type": "execute_result"
    }
   ],
   "source": [
    "pd.Series(perfor).round(4)"
   ]
  }
 ],
 "metadata": {
  "kernelspec": {
   "display_name": "base",
   "language": "python",
   "name": "python3"
  },
  "language_info": {
   "codemirror_mode": {
    "name": "ipython",
    "version": 3
   },
   "file_extension": ".py",
   "mimetype": "text/x-python",
   "name": "python",
   "nbconvert_exporter": "python",
   "pygments_lexer": "ipython3",
   "version": "3.9.16"
  },
  "orig_nbformat": 4
 },
 "nbformat": 4,
 "nbformat_minor": 2
}
